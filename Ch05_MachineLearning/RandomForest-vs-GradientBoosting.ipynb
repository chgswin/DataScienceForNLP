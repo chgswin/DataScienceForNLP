{
 "cells": [
  {
   "cell_type": "markdown",
   "metadata": {},
   "source": [
    "## Compare: Random Forest Tree vs. Gradient Boosting"
   ]
  },
  {
   "cell_type": "markdown",
   "metadata": {},
   "source": [
    "## Random Forest Trees:\n",
    "\n",
    "- Training done in parallel\n",
    "- Unweighted voting for final prediction\n",
    "- Easier to tune, harder to overfit\n",
    "\n",
    "## Gradient Boosting:\n",
    "\n",
    "- Training done iteratively (slower)\n",
    "- Weighted voting for final prediction\n",
    "- Harder to tune, easier to overfit"
   ]
  },
  {
   "cell_type": "code",
   "execution_count": null,
   "metadata": {},
   "outputs": [],
   "source": []
  }
 ],
 "metadata": {
  "kernelspec": {
   "display_name": "Python 3",
   "language": "python",
   "name": "python3"
  },
  "language_info": {
   "codemirror_mode": {
    "name": "ipython",
    "version": 3
   },
   "file_extension": ".py",
   "mimetype": "text/x-python",
   "name": "python",
   "nbconvert_exporter": "python",
   "pygments_lexer": "ipython3",
   "version": "3.7.4"
  }
 },
 "nbformat": 4,
 "nbformat_minor": 4
}
